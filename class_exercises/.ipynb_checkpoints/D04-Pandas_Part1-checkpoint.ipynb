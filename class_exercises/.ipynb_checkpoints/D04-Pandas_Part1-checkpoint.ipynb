{
 "cells": [
  {
   "cell_type": "markdown",
   "metadata": {},
   "source": [
    "# Lesson 3 Class Exercises: Pandas Part 1\n",
    "\n",
    "With these class exercises we learn a few new things.  When new knowledge is introduced you'll see the icon shown on the right: \n",
    "<span style=\"float:right; margin-left:10px; clear:both;\">![Task](../media/new_knowledge.png)</span>"
   ]
  },
  {
   "cell_type": "markdown",
   "metadata": {},
   "source": [
    "## Reminder\n",
    "The first checkin-in of the project is due next Tueday.  After today, you should have everything you need to know to accomplish that first part. "
   ]
  },
  {
   "cell_type": "markdown",
   "metadata": {},
   "source": [
    "## Get Started\n",
    "Import the Numpy and Pandas packages"
   ]
  },
  {
   "cell_type": "code",
   "execution_count": 1,
   "metadata": {},
   "outputs": [],
   "source": [
    "import numpy as np\n",
    "import pandas as pd"
   ]
  },
  {
   "cell_type": "markdown",
   "metadata": {},
   "source": [
    "## Exercise 1: Import Iris Data\n",
    "Import the Iris dataset made available to you in the last class period for the Numpy part2 exercises. Save it to a variable naemd `iris`. Print the first 5 rows and the dimensions to ensure it was read in properly."
   ]
  },
  {
   "cell_type": "code",
   "execution_count": 2,
   "metadata": {},
   "outputs": [
    {
     "data": {
      "text/html": [
       "<div>\n",
       "<style scoped>\n",
       "    .dataframe tbody tr th:only-of-type {\n",
       "        vertical-align: middle;\n",
       "    }\n",
       "\n",
       "    .dataframe tbody tr th {\n",
       "        vertical-align: top;\n",
       "    }\n",
       "\n",
       "    .dataframe thead th {\n",
       "        text-align: right;\n",
       "    }\n",
       "</style>\n",
       "<table border=\"1\" class=\"dataframe\">\n",
       "  <thead>\n",
       "    <tr style=\"text-align: right;\">\n",
       "      <th></th>\n",
       "      <th>sepal_length</th>\n",
       "      <th>sepal_width</th>\n",
       "      <th>petal_length</th>\n",
       "      <th>petal_width</th>\n",
       "      <th>species</th>\n",
       "    </tr>\n",
       "  </thead>\n",
       "  <tbody>\n",
       "    <tr>\n",
       "      <th>0</th>\n",
       "      <td>5.1</td>\n",
       "      <td>3.5</td>\n",
       "      <td>1.4</td>\n",
       "      <td>0.2</td>\n",
       "      <td>setosa</td>\n",
       "    </tr>\n",
       "    <tr>\n",
       "      <th>1</th>\n",
       "      <td>4.9</td>\n",
       "      <td>3.0</td>\n",
       "      <td>1.4</td>\n",
       "      <td>0.2</td>\n",
       "      <td>setosa</td>\n",
       "    </tr>\n",
       "    <tr>\n",
       "      <th>2</th>\n",
       "      <td>4.7</td>\n",
       "      <td>3.2</td>\n",
       "      <td>1.3</td>\n",
       "      <td>0.2</td>\n",
       "      <td>setosa</td>\n",
       "    </tr>\n",
       "    <tr>\n",
       "      <th>3</th>\n",
       "      <td>4.6</td>\n",
       "      <td>3.1</td>\n",
       "      <td>1.5</td>\n",
       "      <td>0.2</td>\n",
       "      <td>setosa</td>\n",
       "    </tr>\n",
       "    <tr>\n",
       "      <th>4</th>\n",
       "      <td>5.0</td>\n",
       "      <td>3.6</td>\n",
       "      <td>1.4</td>\n",
       "      <td>0.2</td>\n",
       "      <td>setosa</td>\n",
       "    </tr>\n",
       "    <tr>\n",
       "      <th>5</th>\n",
       "      <td>5.4</td>\n",
       "      <td>3.9</td>\n",
       "      <td>1.7</td>\n",
       "      <td>0.4</td>\n",
       "      <td>setosa</td>\n",
       "    </tr>\n",
       "    <tr>\n",
       "      <th>6</th>\n",
       "      <td>4.6</td>\n",
       "      <td>3.4</td>\n",
       "      <td>1.4</td>\n",
       "      <td>0.3</td>\n",
       "      <td>setosa</td>\n",
       "    </tr>\n",
       "    <tr>\n",
       "      <th>7</th>\n",
       "      <td>5.0</td>\n",
       "      <td>3.4</td>\n",
       "      <td>1.5</td>\n",
       "      <td>0.2</td>\n",
       "      <td>setosa</td>\n",
       "    </tr>\n",
       "    <tr>\n",
       "      <th>8</th>\n",
       "      <td>4.4</td>\n",
       "      <td>2.9</td>\n",
       "      <td>1.4</td>\n",
       "      <td>0.2</td>\n",
       "      <td>setosa</td>\n",
       "    </tr>\n",
       "    <tr>\n",
       "      <th>9</th>\n",
       "      <td>4.9</td>\n",
       "      <td>3.1</td>\n",
       "      <td>1.5</td>\n",
       "      <td>0.1</td>\n",
       "      <td>setosa</td>\n",
       "    </tr>\n",
       "  </tbody>\n",
       "</table>\n",
       "</div>"
      ],
      "text/plain": [
       "   sepal_length  sepal_width  petal_length  petal_width species\n",
       "0           5.1          3.5           1.4          0.2  setosa\n",
       "1           4.9          3.0           1.4          0.2  setosa\n",
       "2           4.7          3.2           1.3          0.2  setosa\n",
       "3           4.6          3.1           1.5          0.2  setosa\n",
       "4           5.0          3.6           1.4          0.2  setosa\n",
       "5           5.4          3.9           1.7          0.4  setosa\n",
       "6           4.6          3.4           1.4          0.3  setosa\n",
       "7           5.0          3.4           1.5          0.2  setosa\n",
       "8           4.4          2.9           1.4          0.2  setosa\n",
       "9           4.9          3.1           1.5          0.1  setosa"
      ]
     },
     "execution_count": 2,
     "metadata": {},
     "output_type": "execute_result"
    }
   ],
   "source": [
    "iris = pd.read_csv('../data/iris.csv')\n",
    "iris.head(10)"
   ]
  },
  {
   "cell_type": "markdown",
   "metadata": {},
   "source": [
    "Notice how much easier this was to import compared to the Numpy `genfromtxt`. We did not have to skip the headers, we did not have to specify the data type and we can have mixed data types in the same matrix."
   ]
  },
  {
   "cell_type": "markdown",
   "metadata": {},
   "source": [
    "## Exercise 2: Import Legislators Data\n",
    "For portions of this notebook we will use a public dataset that contains all of the current legistators of the United States Congress. This dataset can be found [here](https://github.com/unitedstates/congress-legislators).  \n",
    "\n",
    "Import the data directly from this URL:  https://theunitedstates.io/congress-legislators/legislators-current.csv\n",
    "\n",
    "Save the data in a variable named `legislators`. Print the first 5 lines, and the dimensions. You can get the dimensions of the dataframe using the `.shape` member variable."
   ]
  },
  {
   "cell_type": "code",
   "execution_count": 3,
   "metadata": {},
   "outputs": [
    {
     "data": {
      "text/html": [
       "<div>\n",
       "<style scoped>\n",
       "    .dataframe tbody tr th:only-of-type {\n",
       "        vertical-align: middle;\n",
       "    }\n",
       "\n",
       "    .dataframe tbody tr th {\n",
       "        vertical-align: top;\n",
       "    }\n",
       "\n",
       "    .dataframe thead th {\n",
       "        text-align: right;\n",
       "    }\n",
       "</style>\n",
       "<table border=\"1\" class=\"dataframe\">\n",
       "  <thead>\n",
       "    <tr style=\"text-align: right;\">\n",
       "      <th></th>\n",
       "      <th>last_name</th>\n",
       "      <th>first_name</th>\n",
       "      <th>middle_name</th>\n",
       "      <th>suffix</th>\n",
       "      <th>nickname</th>\n",
       "      <th>full_name</th>\n",
       "      <th>birthday</th>\n",
       "      <th>gender</th>\n",
       "      <th>type</th>\n",
       "      <th>state</th>\n",
       "      <th>...</th>\n",
       "      <th>opensecrets_id</th>\n",
       "      <th>lis_id</th>\n",
       "      <th>fec_ids</th>\n",
       "      <th>cspan_id</th>\n",
       "      <th>govtrack_id</th>\n",
       "      <th>votesmart_id</th>\n",
       "      <th>ballotpedia_id</th>\n",
       "      <th>washington_post_id</th>\n",
       "      <th>icpsr_id</th>\n",
       "      <th>wikipedia_id</th>\n",
       "    </tr>\n",
       "  </thead>\n",
       "  <tbody>\n",
       "    <tr>\n",
       "      <th>0</th>\n",
       "      <td>Brown</td>\n",
       "      <td>Sherrod</td>\n",
       "      <td>NaN</td>\n",
       "      <td>NaN</td>\n",
       "      <td>NaN</td>\n",
       "      <td>Sherrod Brown</td>\n",
       "      <td>1952-11-09</td>\n",
       "      <td>M</td>\n",
       "      <td>sen</td>\n",
       "      <td>OH</td>\n",
       "      <td>...</td>\n",
       "      <td>N00003535</td>\n",
       "      <td>S307</td>\n",
       "      <td>H2OH13033,S6OH00163</td>\n",
       "      <td>5051.0</td>\n",
       "      <td>400050</td>\n",
       "      <td>27018.0</td>\n",
       "      <td>Sherrod Brown</td>\n",
       "      <td>NaN</td>\n",
       "      <td>29389.0</td>\n",
       "      <td>Sherrod Brown</td>\n",
       "    </tr>\n",
       "    <tr>\n",
       "      <th>1</th>\n",
       "      <td>Cantwell</td>\n",
       "      <td>Maria</td>\n",
       "      <td>NaN</td>\n",
       "      <td>NaN</td>\n",
       "      <td>NaN</td>\n",
       "      <td>Maria Cantwell</td>\n",
       "      <td>1958-10-13</td>\n",
       "      <td>F</td>\n",
       "      <td>sen</td>\n",
       "      <td>WA</td>\n",
       "      <td>...</td>\n",
       "      <td>N00007836</td>\n",
       "      <td>S275</td>\n",
       "      <td>S8WA00194,H2WA01054</td>\n",
       "      <td>26137.0</td>\n",
       "      <td>300018</td>\n",
       "      <td>27122.0</td>\n",
       "      <td>Maria Cantwell</td>\n",
       "      <td>NaN</td>\n",
       "      <td>39310.0</td>\n",
       "      <td>Maria Cantwell</td>\n",
       "    </tr>\n",
       "    <tr>\n",
       "      <th>2</th>\n",
       "      <td>Cardin</td>\n",
       "      <td>Benjamin</td>\n",
       "      <td>L.</td>\n",
       "      <td>NaN</td>\n",
       "      <td>NaN</td>\n",
       "      <td>Benjamin L. Cardin</td>\n",
       "      <td>1943-10-05</td>\n",
       "      <td>M</td>\n",
       "      <td>sen</td>\n",
       "      <td>MD</td>\n",
       "      <td>...</td>\n",
       "      <td>N00001955</td>\n",
       "      <td>S308</td>\n",
       "      <td>H6MD03177,S6MD03177</td>\n",
       "      <td>4004.0</td>\n",
       "      <td>400064</td>\n",
       "      <td>26888.0</td>\n",
       "      <td>Ben Cardin</td>\n",
       "      <td>NaN</td>\n",
       "      <td>15408.0</td>\n",
       "      <td>Ben Cardin</td>\n",
       "    </tr>\n",
       "    <tr>\n",
       "      <th>3</th>\n",
       "      <td>Carper</td>\n",
       "      <td>Thomas</td>\n",
       "      <td>Richard</td>\n",
       "      <td>NaN</td>\n",
       "      <td>NaN</td>\n",
       "      <td>Thomas R. Carper</td>\n",
       "      <td>1947-01-23</td>\n",
       "      <td>M</td>\n",
       "      <td>sen</td>\n",
       "      <td>DE</td>\n",
       "      <td>...</td>\n",
       "      <td>N00012508</td>\n",
       "      <td>S277</td>\n",
       "      <td>S8DE00079</td>\n",
       "      <td>663.0</td>\n",
       "      <td>300019</td>\n",
       "      <td>22421.0</td>\n",
       "      <td>Tom Carper</td>\n",
       "      <td>NaN</td>\n",
       "      <td>15015.0</td>\n",
       "      <td>Tom Carper</td>\n",
       "    </tr>\n",
       "    <tr>\n",
       "      <th>4</th>\n",
       "      <td>Casey</td>\n",
       "      <td>Robert</td>\n",
       "      <td>P.</td>\n",
       "      <td>Jr.</td>\n",
       "      <td>Bob</td>\n",
       "      <td>Robert P. Casey, Jr.</td>\n",
       "      <td>1960-04-13</td>\n",
       "      <td>M</td>\n",
       "      <td>sen</td>\n",
       "      <td>PA</td>\n",
       "      <td>...</td>\n",
       "      <td>N00027503</td>\n",
       "      <td>S309</td>\n",
       "      <td>S6PA00217</td>\n",
       "      <td>47036.0</td>\n",
       "      <td>412246</td>\n",
       "      <td>2541.0</td>\n",
       "      <td>Bob Casey, Jr.</td>\n",
       "      <td>NaN</td>\n",
       "      <td>40703.0</td>\n",
       "      <td>Bob Casey Jr.</td>\n",
       "    </tr>\n",
       "  </tbody>\n",
       "</table>\n",
       "<p>5 rows × 34 columns</p>\n",
       "</div>"
      ],
      "text/plain": [
       "  last_name first_name middle_name suffix nickname             full_name  \\\n",
       "0     Brown    Sherrod         NaN    NaN      NaN         Sherrod Brown   \n",
       "1  Cantwell      Maria         NaN    NaN      NaN        Maria Cantwell   \n",
       "2    Cardin   Benjamin          L.    NaN      NaN    Benjamin L. Cardin   \n",
       "3    Carper     Thomas     Richard    NaN      NaN      Thomas R. Carper   \n",
       "4     Casey     Robert          P.    Jr.      Bob  Robert P. Casey, Jr.   \n",
       "\n",
       "     birthday gender type state  ...  opensecrets_id  lis_id  \\\n",
       "0  1952-11-09      M  sen    OH  ...       N00003535    S307   \n",
       "1  1958-10-13      F  sen    WA  ...       N00007836    S275   \n",
       "2  1943-10-05      M  sen    MD  ...       N00001955    S308   \n",
       "3  1947-01-23      M  sen    DE  ...       N00012508    S277   \n",
       "4  1960-04-13      M  sen    PA  ...       N00027503    S309   \n",
       "\n",
       "               fec_ids cspan_id govtrack_id votesmart_id  ballotpedia_id  \\\n",
       "0  H2OH13033,S6OH00163   5051.0      400050      27018.0   Sherrod Brown   \n",
       "1  S8WA00194,H2WA01054  26137.0      300018      27122.0  Maria Cantwell   \n",
       "2  H6MD03177,S6MD03177   4004.0      400064      26888.0      Ben Cardin   \n",
       "3            S8DE00079    663.0      300019      22421.0      Tom Carper   \n",
       "4            S6PA00217  47036.0      412246       2541.0  Bob Casey, Jr.   \n",
       "\n",
       "  washington_post_id icpsr_id    wikipedia_id  \n",
       "0                NaN  29389.0   Sherrod Brown  \n",
       "1                NaN  39310.0  Maria Cantwell  \n",
       "2                NaN  15408.0      Ben Cardin  \n",
       "3                NaN  15015.0      Tom Carper  \n",
       "4                NaN  40703.0   Bob Casey Jr.  \n",
       "\n",
       "[5 rows x 34 columns]"
      ]
     },
     "execution_count": 3,
     "metadata": {},
     "output_type": "execute_result"
    }
   ],
   "source": [
    "legislators = pd.read_csv(\"https://theunitedstates.io/congress-legislators/legislators-current.csv\")\n",
    "legislators.head()"
   ]
  },
  {
   "cell_type": "markdown",
   "metadata": {},
   "source": [
    "## Exercise 3: Explore the Data\n",
    "### Task 1\n",
    "Print the column names of the legistators dataframe and explore the type of data in the data frame. "
   ]
  },
  {
   "cell_type": "code",
   "execution_count": 11,
   "metadata": {},
   "outputs": [
    {
     "data": {
      "text/plain": [
       "Index(['last_name', 'first_name', 'middle_name', 'suffix', 'nickname',\n",
       "       'full_name', 'birthday', 'gender', 'type', 'state', 'district',\n",
       "       'senate_class', 'party', 'url', 'address', 'phone', 'contact_form',\n",
       "       'rss_url', 'twitter', 'facebook', 'youtube', 'youtube_id',\n",
       "       'bioguide_id', 'thomas_id', 'opensecrets_id', 'lis_id', 'fec_ids',\n",
       "       'cspan_id', 'govtrack_id', 'votesmart_id', 'ballotpedia_id',\n",
       "       'washington_post_id', 'icpsr_id', 'wikipedia_id'],\n",
       "      dtype='object')"
      ]
     },
     "execution_count": 11,
     "metadata": {},
     "output_type": "execute_result"
    }
   ],
   "source": [
    "legislators.columns"
   ]
  },
  {
   "cell_type": "markdown",
   "metadata": {},
   "source": [
    "### Task 2\n",
    "Show the data types of all of the columns in the legislator data. To do this, use the `.dtypes` member variable. Do all of the data types seem appropriate for the data? "
   ]
  },
  {
   "cell_type": "code",
   "execution_count": 12,
   "metadata": {},
   "outputs": [
    {
     "data": {
      "text/plain": [
       "last_name              object\n",
       "first_name             object\n",
       "middle_name            object\n",
       "suffix                 object\n",
       "nickname               object\n",
       "full_name              object\n",
       "birthday               object\n",
       "gender                 object\n",
       "type                   object\n",
       "state                  object\n",
       "district              float64\n",
       "senate_class          float64\n",
       "party                  object\n",
       "url                    object\n",
       "address                object\n",
       "phone                  object\n",
       "contact_form           object\n",
       "rss_url                object\n",
       "twitter                object\n",
       "facebook               object\n",
       "youtube                object\n",
       "youtube_id             object\n",
       "bioguide_id            object\n",
       "thomas_id             float64\n",
       "opensecrets_id         object\n",
       "lis_id                 object\n",
       "fec_ids                object\n",
       "cspan_id              float64\n",
       "govtrack_id             int64\n",
       "votesmart_id          float64\n",
       "ballotpedia_id         object\n",
       "washington_post_id    float64\n",
       "icpsr_id              float64\n",
       "wikipedia_id           object\n",
       "dtype: object"
      ]
     },
     "execution_count": 12,
     "metadata": {},
     "output_type": "execute_result"
    }
   ],
   "source": [
    "legislators.dtypes"
   ]
  },
  {
   "cell_type": "markdown",
   "metadata": {},
   "source": [
    "Show all of the data types in the iris dataframe. To do this, use the `.dtypes` member variable."
   ]
  },
  {
   "cell_type": "code",
   "execution_count": 13,
   "metadata": {},
   "outputs": [
    {
     "data": {
      "text/plain": [
       "sepal_length    float64\n",
       "sepal_width     float64\n",
       "petal_length    float64\n",
       "petal_width     float64\n",
       "species          object\n",
       "dtype: object"
      ]
     },
     "execution_count": 13,
     "metadata": {},
     "output_type": "execute_result"
    }
   ],
   "source": [
    "iris.dtypes"
   ]
  },
  {
   "cell_type": "markdown",
   "metadata": {},
   "source": [
    "### Task 3\n",
    "It's always important to know where the missing values are in your data. Are there any missing values in the legislators dataframe? How many per column?  \n",
    "\n",
    "Hint: we didn't learn how to find missing values in the lesson, but we can use the `isna()` function."
   ]
  },
  {
   "cell_type": "code",
   "execution_count": 14,
   "metadata": {},
   "outputs": [
    {
     "data": {
      "text/plain": [
       "last_name               0\n",
       "first_name              0\n",
       "middle_name           290\n",
       "suffix                519\n",
       "nickname              496\n",
       "full_name               0\n",
       "birthday                0\n",
       "gender                  0\n",
       "type                    0\n",
       "state                   0\n",
       "district              100\n",
       "senate_class          437\n",
       "party                   0\n",
       "url                     0\n",
       "address                 0\n",
       "phone                   0\n",
       "contact_form          437\n",
       "rss_url               280\n",
       "twitter                10\n",
       "facebook              162\n",
       "youtube               269\n",
       "youtube_id            193\n",
       "bioguide_id             0\n",
       "thomas_id             206\n",
       "opensecrets_id         63\n",
       "lis_id                437\n",
       "fec_ids                 1\n",
       "cspan_id              153\n",
       "govtrack_id             0\n",
       "votesmart_id           58\n",
       "ballotpedia_id         45\n",
       "washington_post_id    537\n",
       "icpsr_id               73\n",
       "wikipedia_id            1\n",
       "dtype: int64"
      ]
     },
     "execution_count": 14,
     "metadata": {},
     "output_type": "execute_result"
    }
   ],
   "source": [
    "legislators.isna().sum()"
   ]
  },
  {
   "cell_type": "markdown",
   "metadata": {},
   "source": [
    "How about in the iris dataframe?"
   ]
  },
  {
   "cell_type": "code",
   "execution_count": 15,
   "metadata": {},
   "outputs": [
    {
     "data": {
      "text/plain": [
       "sepal_length    0\n",
       "sepal_width     0\n",
       "petal_length    0\n",
       "petal_width     0\n",
       "species         0\n",
       "dtype: int64"
      ]
     },
     "execution_count": 15,
     "metadata": {},
     "output_type": "execute_result"
    }
   ],
   "source": [
    "iris.isna().sum()"
   ]
  },
  {
   "cell_type": "markdown",
   "metadata": {},
   "source": [
    "### Task 4\n",
    "It is also important to know if you have any duplicated rows. If you are performing statistcal analyses and you have duplicated entries they can affect the results.  So, let's find out.  Are there any duplicated rows in the legislators dataframe?  Print then number of duplicates. If there are duplicates print the rows. What function could we used to find out if we have duplicated rows?"
   ]
  },
  {
   "cell_type": "code",
   "execution_count": 16,
   "metadata": {},
   "outputs": [
    {
     "data": {
      "text/plain": [
       "0"
      ]
     },
     "execution_count": 16,
     "metadata": {},
     "output_type": "execute_result"
    }
   ],
   "source": [
    "legislators.duplicated().sum()"
   ]
  },
  {
   "cell_type": "markdown",
   "metadata": {},
   "source": [
    "Do we have duplicated rows in the iris dataset? Print the number of duplicates? If there are duplicates print the rows."
   ]
  },
  {
   "cell_type": "code",
   "execution_count": 17,
   "metadata": {},
   "outputs": [
    {
     "data": {
      "text/plain": [
       "3"
      ]
     },
     "execution_count": 17,
     "metadata": {},
     "output_type": "execute_result"
    }
   ],
   "source": [
    "iris.duplicated().sum()"
   ]
  },
  {
   "cell_type": "code",
   "execution_count": 18,
   "metadata": {},
   "outputs": [
    {
     "data": {
      "text/html": [
       "<div>\n",
       "<style scoped>\n",
       "    .dataframe tbody tr th:only-of-type {\n",
       "        vertical-align: middle;\n",
       "    }\n",
       "\n",
       "    .dataframe tbody tr th {\n",
       "        vertical-align: top;\n",
       "    }\n",
       "\n",
       "    .dataframe thead th {\n",
       "        text-align: right;\n",
       "    }\n",
       "</style>\n",
       "<table border=\"1\" class=\"dataframe\">\n",
       "  <thead>\n",
       "    <tr style=\"text-align: right;\">\n",
       "      <th></th>\n",
       "      <th>sepal_length</th>\n",
       "      <th>sepal_width</th>\n",
       "      <th>petal_length</th>\n",
       "      <th>petal_width</th>\n",
       "      <th>species</th>\n",
       "    </tr>\n",
       "  </thead>\n",
       "  <tbody>\n",
       "    <tr>\n",
       "      <th>34</th>\n",
       "      <td>4.9</td>\n",
       "      <td>3.1</td>\n",
       "      <td>1.5</td>\n",
       "      <td>0.1</td>\n",
       "      <td>setosa</td>\n",
       "    </tr>\n",
       "    <tr>\n",
       "      <th>37</th>\n",
       "      <td>4.9</td>\n",
       "      <td>3.1</td>\n",
       "      <td>1.5</td>\n",
       "      <td>0.1</td>\n",
       "      <td>setosa</td>\n",
       "    </tr>\n",
       "    <tr>\n",
       "      <th>142</th>\n",
       "      <td>5.8</td>\n",
       "      <td>2.7</td>\n",
       "      <td>5.1</td>\n",
       "      <td>1.9</td>\n",
       "      <td>virginica</td>\n",
       "    </tr>\n",
       "  </tbody>\n",
       "</table>\n",
       "</div>"
      ],
      "text/plain": [
       "     sepal_length  sepal_width  petal_length  petal_width    species\n",
       "34            4.9          3.1           1.5          0.1     setosa\n",
       "37            4.9          3.1           1.5          0.1     setosa\n",
       "142           5.8          2.7           5.1          1.9  virginica"
      ]
     },
     "execution_count": 18,
     "metadata": {},
     "output_type": "execute_result"
    }
   ],
   "source": [
    "iris[iris.duplicated()]"
   ]
  },
  {
   "cell_type": "markdown",
   "metadata": {},
   "source": [
    "If there are duplicated rows should we remove them or keep them?"
   ]
  },
  {
   "cell_type": "markdown",
   "metadata": {},
   "source": [
    "### Task 5\n",
    "It is important to also check that the range of values in our data matches expectations.  For example, if we expect to have three species in our iris data, we should check that we see three species. How many political parties should we expect in the legislators data?  If we saw not what we expect perhaps the data is incomplete.... Let's check.   You can find out how many unique values there are per column using the `.nunique()` function.  Try it for both the legislators and the iris data set."
   ]
  },
  {
   "cell_type": "code",
   "execution_count": 19,
   "metadata": {},
   "outputs": [
    {
     "data": {
      "text/plain": [
       "last_name             490\n",
       "first_name            322\n",
       "middle_name            88\n",
       "suffix                  5\n",
       "nickname               32\n",
       "full_name             537\n",
       "birthday              529\n",
       "gender                  2\n",
       "type                    2\n",
       "state                  56\n",
       "district               54\n",
       "senate_class            3\n",
       "party                   3\n",
       "url                   537\n",
       "address               537\n",
       "phone                 537\n",
       "contact_form          100\n",
       "rss_url               256\n",
       "twitter               527\n",
       "facebook              375\n",
       "youtube               268\n",
       "youtube_id            344\n",
       "bioguide_id           537\n",
       "thomas_id             331\n",
       "opensecrets_id        474\n",
       "lis_id                100\n",
       "fec_ids               536\n",
       "cspan_id              384\n",
       "govtrack_id           537\n",
       "votesmart_id          479\n",
       "ballotpedia_id        492\n",
       "washington_post_id      0\n",
       "icpsr_id              464\n",
       "wikipedia_id          536\n",
       "dtype: int64"
      ]
     },
     "execution_count": 19,
     "metadata": {},
     "output_type": "execute_result"
    }
   ],
   "source": [
    "legislators.nunique()"
   ]
  },
  {
   "cell_type": "code",
   "execution_count": 20,
   "metadata": {},
   "outputs": [
    {
     "data": {
      "text/plain": [
       "array(['OH', 'WA', 'MD', 'DE', 'PA', 'CA', 'MN', 'NJ', 'VT', 'MI', 'MT',\n",
       "       'RI', 'WY', 'MS', 'ME', 'TX', 'IL', 'SC', 'OK', 'KY', 'OR', 'ID',\n",
       "       'NH', 'VA', 'NY', 'WV', 'AL', 'WI', 'CO', 'FL', 'GA', 'TN', 'CT',\n",
       "       'MO', 'AR', 'IN', 'NC', 'LA', 'NE', 'AZ', 'IA', 'NM', 'HI', 'ND',\n",
       "       'MA', 'UT', 'KS', 'AK', 'DC', 'MP', 'SD', 'NV', 'VI', 'AS', 'PR',\n",
       "       'GU'], dtype=object)"
      ]
     },
     "execution_count": 20,
     "metadata": {},
     "output_type": "execute_result"
    }
   ],
   "source": [
    "legislators['state'].unique()"
   ]
  },
  {
   "cell_type": "code",
   "execution_count": 21,
   "metadata": {},
   "outputs": [
    {
     "data": {
      "text/plain": [
       "sepal_length    35\n",
       "sepal_width     23\n",
       "petal_length    43\n",
       "petal_width     22\n",
       "species          3\n",
       "dtype: int64"
      ]
     },
     "execution_count": 21,
     "metadata": {},
     "output_type": "execute_result"
    }
   ],
   "source": [
    "iris.nunique()"
   ]
  },
  {
   "cell_type": "markdown",
   "metadata": {},
   "source": [
    "What do you think?  Do we see what we might expect?  Are there fields where this type of check doesn't matter? In what fields might this type of exploration matter?"
   ]
  },
  {
   "cell_type": "markdown",
   "metadata": {},
   "source": [
    "Check to see if you have all of the values expected for a given field. Pick a column you know should have a set number of values and print all of the unique values in that column. Do so for both the legislator and iris datasets."
   ]
  },
  {
   "cell_type": "code",
   "execution_count": 22,
   "metadata": {},
   "outputs": [
    {
     "data": {
      "text/plain": [
       "array(['M', 'F'], dtype=object)"
      ]
     },
     "execution_count": 22,
     "metadata": {},
     "output_type": "execute_result"
    }
   ],
   "source": [
    "legislators['gender'].unique()"
   ]
  },
  {
   "cell_type": "code",
   "execution_count": 23,
   "metadata": {},
   "outputs": [
    {
     "data": {
      "text/plain": [
       "array([5.1, 4.9, 4.7, 4.6, 5. , 5.4, 4.4, 4.8, 4.3, 5.8, 5.7, 5.2, 5.5,\n",
       "       4.5, 5.3, 7. , 6.4, 6.9, 6.5, 6.3, 6.6, 5.9, 6. , 6.1, 5.6, 6.7,\n",
       "       6.2, 6.8, 7.1, 7.6, 7.3, 7.2, 7.7, 7.4, 7.9])"
      ]
     },
     "execution_count": 23,
     "metadata": {},
     "output_type": "execute_result"
    }
   ],
   "source": [
    "iris['sepal_length'].unique()"
   ]
  },
  {
   "cell_type": "markdown",
   "metadata": {},
   "source": [
    "## Exercise 5: Describe the data\n",
    "For both the legislators and the iris data, get descriptive statistics for each numeric field."
   ]
  },
  {
   "cell_type": "code",
   "execution_count": 24,
   "metadata": {},
   "outputs": [
    {
     "data": {
      "text/html": [
       "<div>\n",
       "<style scoped>\n",
       "    .dataframe tbody tr th:only-of-type {\n",
       "        vertical-align: middle;\n",
       "    }\n",
       "\n",
       "    .dataframe tbody tr th {\n",
       "        vertical-align: top;\n",
       "    }\n",
       "\n",
       "    .dataframe thead th {\n",
       "        text-align: right;\n",
       "    }\n",
       "</style>\n",
       "<table border=\"1\" class=\"dataframe\">\n",
       "  <thead>\n",
       "    <tr style=\"text-align: right;\">\n",
       "      <th></th>\n",
       "      <th>sepal_length</th>\n",
       "      <th>sepal_width</th>\n",
       "      <th>petal_length</th>\n",
       "      <th>petal_width</th>\n",
       "    </tr>\n",
       "  </thead>\n",
       "  <tbody>\n",
       "    <tr>\n",
       "      <th>count</th>\n",
       "      <td>150.000000</td>\n",
       "      <td>150.000000</td>\n",
       "      <td>150.000000</td>\n",
       "      <td>150.000000</td>\n",
       "    </tr>\n",
       "    <tr>\n",
       "      <th>mean</th>\n",
       "      <td>5.843333</td>\n",
       "      <td>3.054000</td>\n",
       "      <td>3.758667</td>\n",
       "      <td>1.198667</td>\n",
       "    </tr>\n",
       "    <tr>\n",
       "      <th>std</th>\n",
       "      <td>0.828066</td>\n",
       "      <td>0.433594</td>\n",
       "      <td>1.764420</td>\n",
       "      <td>0.763161</td>\n",
       "    </tr>\n",
       "    <tr>\n",
       "      <th>min</th>\n",
       "      <td>4.300000</td>\n",
       "      <td>2.000000</td>\n",
       "      <td>1.000000</td>\n",
       "      <td>0.100000</td>\n",
       "    </tr>\n",
       "    <tr>\n",
       "      <th>25%</th>\n",
       "      <td>5.100000</td>\n",
       "      <td>2.800000</td>\n",
       "      <td>1.600000</td>\n",
       "      <td>0.300000</td>\n",
       "    </tr>\n",
       "    <tr>\n",
       "      <th>50%</th>\n",
       "      <td>5.800000</td>\n",
       "      <td>3.000000</td>\n",
       "      <td>4.350000</td>\n",
       "      <td>1.300000</td>\n",
       "    </tr>\n",
       "    <tr>\n",
       "      <th>75%</th>\n",
       "      <td>6.400000</td>\n",
       "      <td>3.300000</td>\n",
       "      <td>5.100000</td>\n",
       "      <td>1.800000</td>\n",
       "    </tr>\n",
       "    <tr>\n",
       "      <th>max</th>\n",
       "      <td>7.900000</td>\n",
       "      <td>4.400000</td>\n",
       "      <td>6.900000</td>\n",
       "      <td>2.500000</td>\n",
       "    </tr>\n",
       "  </tbody>\n",
       "</table>\n",
       "</div>"
      ],
      "text/plain": [
       "       sepal_length  sepal_width  petal_length  petal_width\n",
       "count    150.000000   150.000000    150.000000   150.000000\n",
       "mean       5.843333     3.054000      3.758667     1.198667\n",
       "std        0.828066     0.433594      1.764420     0.763161\n",
       "min        4.300000     2.000000      1.000000     0.100000\n",
       "25%        5.100000     2.800000      1.600000     0.300000\n",
       "50%        5.800000     3.000000      4.350000     1.300000\n",
       "75%        6.400000     3.300000      5.100000     1.800000\n",
       "max        7.900000     4.400000      6.900000     2.500000"
      ]
     },
     "execution_count": 24,
     "metadata": {},
     "output_type": "execute_result"
    }
   ],
   "source": [
    "iris.describe()"
   ]
  },
  {
   "cell_type": "code",
   "execution_count": 25,
   "metadata": {},
   "outputs": [
    {
     "data": {
      "text/html": [
       "<div>\n",
       "<style scoped>\n",
       "    .dataframe tbody tr th:only-of-type {\n",
       "        vertical-align: middle;\n",
       "    }\n",
       "\n",
       "    .dataframe tbody tr th {\n",
       "        vertical-align: top;\n",
       "    }\n",
       "\n",
       "    .dataframe thead th {\n",
       "        text-align: right;\n",
       "    }\n",
       "</style>\n",
       "<table border=\"1\" class=\"dataframe\">\n",
       "  <thead>\n",
       "    <tr style=\"text-align: right;\">\n",
       "      <th></th>\n",
       "      <th>district</th>\n",
       "      <th>senate_class</th>\n",
       "      <th>thomas_id</th>\n",
       "      <th>cspan_id</th>\n",
       "      <th>govtrack_id</th>\n",
       "      <th>votesmart_id</th>\n",
       "      <th>washington_post_id</th>\n",
       "      <th>icpsr_id</th>\n",
       "    </tr>\n",
       "  </thead>\n",
       "  <tbody>\n",
       "    <tr>\n",
       "      <th>count</th>\n",
       "      <td>437.000000</td>\n",
       "      <td>100.000000</td>\n",
       "      <td>331.000000</td>\n",
       "      <td>3.840000e+02</td>\n",
       "      <td>537.000000</td>\n",
       "      <td>479.000000</td>\n",
       "      <td>0.0</td>\n",
       "      <td>464.000000</td>\n",
       "    </tr>\n",
       "    <tr>\n",
       "      <th>mean</th>\n",
       "      <td>10.057208</td>\n",
       "      <td>2.010000</td>\n",
       "      <td>1747.000000</td>\n",
       "      <td>5.407115e+05</td>\n",
       "      <td>411687.761639</td>\n",
       "      <td>75401.068894</td>\n",
       "      <td>NaN</td>\n",
       "      <td>24263.346983</td>\n",
       "    </tr>\n",
       "    <tr>\n",
       "      <th>std</th>\n",
       "      <td>10.686480</td>\n",
       "      <td>0.822598</td>\n",
       "      <td>549.070697</td>\n",
       "      <td>1.486116e+06</td>\n",
       "      <td>26882.053677</td>\n",
       "      <td>62274.515870</td>\n",
       "      <td>NaN</td>\n",
       "      <td>7507.728202</td>\n",
       "    </tr>\n",
       "    <tr>\n",
       "      <th>min</th>\n",
       "      <td>0.000000</td>\n",
       "      <td>1.000000</td>\n",
       "      <td>91.000000</td>\n",
       "      <td>2.600000e+02</td>\n",
       "      <td>300018.000000</td>\n",
       "      <td>119.000000</td>\n",
       "      <td>NaN</td>\n",
       "      <td>14066.000000</td>\n",
       "    </tr>\n",
       "    <tr>\n",
       "      <th>25%</th>\n",
       "      <td>3.000000</td>\n",
       "      <td>1.000000</td>\n",
       "      <td>1618.500000</td>\n",
       "      <td>4.554975e+04</td>\n",
       "      <td>412196.000000</td>\n",
       "      <td>22465.500000</td>\n",
       "      <td>NaN</td>\n",
       "      <td>21107.500000</td>\n",
       "    </tr>\n",
       "    <tr>\n",
       "      <th>50%</th>\n",
       "      <td>6.000000</td>\n",
       "      <td>2.000000</td>\n",
       "      <td>1922.000000</td>\n",
       "      <td>7.970400e+04</td>\n",
       "      <td>412566.000000</td>\n",
       "      <td>52662.000000</td>\n",
       "      <td>NaN</td>\n",
       "      <td>21564.500000</td>\n",
       "    </tr>\n",
       "    <tr>\n",
       "      <th>75%</th>\n",
       "      <td>13.000000</td>\n",
       "      <td>3.000000</td>\n",
       "      <td>2125.000000</td>\n",
       "      <td>1.002813e+06</td>\n",
       "      <td>412766.000000</td>\n",
       "      <td>133665.000000</td>\n",
       "      <td>NaN</td>\n",
       "      <td>21972.250000</td>\n",
       "    </tr>\n",
       "    <tr>\n",
       "      <th>max</th>\n",
       "      <td>53.000000</td>\n",
       "      <td>3.000000</td>\n",
       "      <td>2296.000000</td>\n",
       "      <td>9.275683e+06</td>\n",
       "      <td>456858.000000</td>\n",
       "      <td>188334.000000</td>\n",
       "      <td>NaN</td>\n",
       "      <td>94659.000000</td>\n",
       "    </tr>\n",
       "  </tbody>\n",
       "</table>\n",
       "</div>"
      ],
      "text/plain": [
       "         district  senate_class    thomas_id      cspan_id    govtrack_id  \\\n",
       "count  437.000000    100.000000   331.000000  3.840000e+02     537.000000   \n",
       "mean    10.057208      2.010000  1747.000000  5.407115e+05  411687.761639   \n",
       "std     10.686480      0.822598   549.070697  1.486116e+06   26882.053677   \n",
       "min      0.000000      1.000000    91.000000  2.600000e+02  300018.000000   \n",
       "25%      3.000000      1.000000  1618.500000  4.554975e+04  412196.000000   \n",
       "50%      6.000000      2.000000  1922.000000  7.970400e+04  412566.000000   \n",
       "75%     13.000000      3.000000  2125.000000  1.002813e+06  412766.000000   \n",
       "max     53.000000      3.000000  2296.000000  9.275683e+06  456858.000000   \n",
       "\n",
       "        votesmart_id  washington_post_id      icpsr_id  \n",
       "count     479.000000                 0.0    464.000000  \n",
       "mean    75401.068894                 NaN  24263.346983  \n",
       "std     62274.515870                 NaN   7507.728202  \n",
       "min       119.000000                 NaN  14066.000000  \n",
       "25%     22465.500000                 NaN  21107.500000  \n",
       "50%     52662.000000                 NaN  21564.500000  \n",
       "75%    133665.000000                 NaN  21972.250000  \n",
       "max    188334.000000                 NaN  94659.000000  "
      ]
     },
     "execution_count": 25,
     "metadata": {},
     "output_type": "execute_result"
    }
   ],
   "source": [
    "legislators.describe()"
   ]
  },
  {
   "cell_type": "markdown",
   "metadata": {},
   "source": [
    "## Exercise 6: Row Index Labels\n",
    "For the legislator dataframe, let's change the row labels from numerical indexes to something more recognizable.  Take a look at the columns of data, is there anything you might want to substitue as a row label?  Pick one and set the index lables. Then print the top 5 rows to see if the index labels are present."
   ]
  },
  {
   "cell_type": "code",
   "execution_count": 26,
   "metadata": {},
   "outputs": [
    {
     "data": {
      "text/html": [
       "<div>\n",
       "<style scoped>\n",
       "    .dataframe tbody tr th:only-of-type {\n",
       "        vertical-align: middle;\n",
       "    }\n",
       "\n",
       "    .dataframe tbody tr th {\n",
       "        vertical-align: top;\n",
       "    }\n",
       "\n",
       "    .dataframe thead th {\n",
       "        text-align: right;\n",
       "    }\n",
       "</style>\n",
       "<table border=\"1\" class=\"dataframe\">\n",
       "  <thead>\n",
       "    <tr style=\"text-align: right;\">\n",
       "      <th></th>\n",
       "      <th>last_name</th>\n",
       "      <th>first_name</th>\n",
       "      <th>middle_name</th>\n",
       "      <th>suffix</th>\n",
       "      <th>nickname</th>\n",
       "      <th>full_name</th>\n",
       "      <th>birthday</th>\n",
       "      <th>gender</th>\n",
       "      <th>type</th>\n",
       "      <th>state</th>\n",
       "      <th>...</th>\n",
       "      <th>opensecrets_id</th>\n",
       "      <th>lis_id</th>\n",
       "      <th>fec_ids</th>\n",
       "      <th>cspan_id</th>\n",
       "      <th>govtrack_id</th>\n",
       "      <th>votesmart_id</th>\n",
       "      <th>ballotpedia_id</th>\n",
       "      <th>washington_post_id</th>\n",
       "      <th>icpsr_id</th>\n",
       "      <th>wikipedia_id</th>\n",
       "    </tr>\n",
       "    <tr>\n",
       "      <th>last_name</th>\n",
       "      <th></th>\n",
       "      <th></th>\n",
       "      <th></th>\n",
       "      <th></th>\n",
       "      <th></th>\n",
       "      <th></th>\n",
       "      <th></th>\n",
       "      <th></th>\n",
       "      <th></th>\n",
       "      <th></th>\n",
       "      <th></th>\n",
       "      <th></th>\n",
       "      <th></th>\n",
       "      <th></th>\n",
       "      <th></th>\n",
       "      <th></th>\n",
       "      <th></th>\n",
       "      <th></th>\n",
       "      <th></th>\n",
       "      <th></th>\n",
       "      <th></th>\n",
       "    </tr>\n",
       "  </thead>\n",
       "  <tbody>\n",
       "    <tr>\n",
       "      <th>Brown</th>\n",
       "      <td>Brown</td>\n",
       "      <td>Sherrod</td>\n",
       "      <td>NaN</td>\n",
       "      <td>NaN</td>\n",
       "      <td>NaN</td>\n",
       "      <td>Sherrod Brown</td>\n",
       "      <td>1952-11-09</td>\n",
       "      <td>M</td>\n",
       "      <td>sen</td>\n",
       "      <td>OH</td>\n",
       "      <td>...</td>\n",
       "      <td>N00003535</td>\n",
       "      <td>S307</td>\n",
       "      <td>H2OH13033,S6OH00163</td>\n",
       "      <td>5051.0</td>\n",
       "      <td>400050</td>\n",
       "      <td>27018.0</td>\n",
       "      <td>Sherrod Brown</td>\n",
       "      <td>NaN</td>\n",
       "      <td>29389.0</td>\n",
       "      <td>Sherrod Brown</td>\n",
       "    </tr>\n",
       "    <tr>\n",
       "      <th>Cantwell</th>\n",
       "      <td>Cantwell</td>\n",
       "      <td>Maria</td>\n",
       "      <td>NaN</td>\n",
       "      <td>NaN</td>\n",
       "      <td>NaN</td>\n",
       "      <td>Maria Cantwell</td>\n",
       "      <td>1958-10-13</td>\n",
       "      <td>F</td>\n",
       "      <td>sen</td>\n",
       "      <td>WA</td>\n",
       "      <td>...</td>\n",
       "      <td>N00007836</td>\n",
       "      <td>S275</td>\n",
       "      <td>S8WA00194,H2WA01054</td>\n",
       "      <td>26137.0</td>\n",
       "      <td>300018</td>\n",
       "      <td>27122.0</td>\n",
       "      <td>Maria Cantwell</td>\n",
       "      <td>NaN</td>\n",
       "      <td>39310.0</td>\n",
       "      <td>Maria Cantwell</td>\n",
       "    </tr>\n",
       "    <tr>\n",
       "      <th>Cardin</th>\n",
       "      <td>Cardin</td>\n",
       "      <td>Benjamin</td>\n",
       "      <td>L.</td>\n",
       "      <td>NaN</td>\n",
       "      <td>NaN</td>\n",
       "      <td>Benjamin L. Cardin</td>\n",
       "      <td>1943-10-05</td>\n",
       "      <td>M</td>\n",
       "      <td>sen</td>\n",
       "      <td>MD</td>\n",
       "      <td>...</td>\n",
       "      <td>N00001955</td>\n",
       "      <td>S308</td>\n",
       "      <td>H6MD03177,S6MD03177</td>\n",
       "      <td>4004.0</td>\n",
       "      <td>400064</td>\n",
       "      <td>26888.0</td>\n",
       "      <td>Ben Cardin</td>\n",
       "      <td>NaN</td>\n",
       "      <td>15408.0</td>\n",
       "      <td>Ben Cardin</td>\n",
       "    </tr>\n",
       "    <tr>\n",
       "      <th>Carper</th>\n",
       "      <td>Carper</td>\n",
       "      <td>Thomas</td>\n",
       "      <td>Richard</td>\n",
       "      <td>NaN</td>\n",
       "      <td>NaN</td>\n",
       "      <td>Thomas R. Carper</td>\n",
       "      <td>1947-01-23</td>\n",
       "      <td>M</td>\n",
       "      <td>sen</td>\n",
       "      <td>DE</td>\n",
       "      <td>...</td>\n",
       "      <td>N00012508</td>\n",
       "      <td>S277</td>\n",
       "      <td>S8DE00079</td>\n",
       "      <td>663.0</td>\n",
       "      <td>300019</td>\n",
       "      <td>22421.0</td>\n",
       "      <td>Tom Carper</td>\n",
       "      <td>NaN</td>\n",
       "      <td>15015.0</td>\n",
       "      <td>Tom Carper</td>\n",
       "    </tr>\n",
       "    <tr>\n",
       "      <th>Casey</th>\n",
       "      <td>Casey</td>\n",
       "      <td>Robert</td>\n",
       "      <td>P.</td>\n",
       "      <td>Jr.</td>\n",
       "      <td>Bob</td>\n",
       "      <td>Robert P. Casey, Jr.</td>\n",
       "      <td>1960-04-13</td>\n",
       "      <td>M</td>\n",
       "      <td>sen</td>\n",
       "      <td>PA</td>\n",
       "      <td>...</td>\n",
       "      <td>N00027503</td>\n",
       "      <td>S309</td>\n",
       "      <td>S6PA00217</td>\n",
       "      <td>47036.0</td>\n",
       "      <td>412246</td>\n",
       "      <td>2541.0</td>\n",
       "      <td>Bob Casey, Jr.</td>\n",
       "      <td>NaN</td>\n",
       "      <td>40703.0</td>\n",
       "      <td>Bob Casey Jr.</td>\n",
       "    </tr>\n",
       "  </tbody>\n",
       "</table>\n",
       "<p>5 rows × 34 columns</p>\n",
       "</div>"
      ],
      "text/plain": [
       "          last_name first_name middle_name suffix nickname  \\\n",
       "last_name                                                    \n",
       "Brown         Brown    Sherrod         NaN    NaN      NaN   \n",
       "Cantwell   Cantwell      Maria         NaN    NaN      NaN   \n",
       "Cardin       Cardin   Benjamin          L.    NaN      NaN   \n",
       "Carper       Carper     Thomas     Richard    NaN      NaN   \n",
       "Casey         Casey     Robert          P.    Jr.      Bob   \n",
       "\n",
       "                      full_name    birthday gender type state       ...        \\\n",
       "last_name                                                           ...         \n",
       "Brown             Sherrod Brown  1952-11-09      M  sen    OH       ...         \n",
       "Cantwell         Maria Cantwell  1958-10-13      F  sen    WA       ...         \n",
       "Cardin       Benjamin L. Cardin  1943-10-05      M  sen    MD       ...         \n",
       "Carper         Thomas R. Carper  1947-01-23      M  sen    DE       ...         \n",
       "Casey      Robert P. Casey, Jr.  1960-04-13      M  sen    PA       ...         \n",
       "\n",
       "           opensecrets_id  lis_id              fec_ids cspan_id govtrack_id  \\\n",
       "last_name                                                                     \n",
       "Brown           N00003535    S307  H2OH13033,S6OH00163   5051.0      400050   \n",
       "Cantwell        N00007836    S275  S8WA00194,H2WA01054  26137.0      300018   \n",
       "Cardin          N00001955    S308  H6MD03177,S6MD03177   4004.0      400064   \n",
       "Carper          N00012508    S277            S8DE00079    663.0      300019   \n",
       "Casey           N00027503    S309            S6PA00217  47036.0      412246   \n",
       "\n",
       "          votesmart_id  ballotpedia_id washington_post_id icpsr_id  \\\n",
       "last_name                                                            \n",
       "Brown          27018.0   Sherrod Brown                NaN  29389.0   \n",
       "Cantwell       27122.0  Maria Cantwell                NaN  39310.0   \n",
       "Cardin         26888.0      Ben Cardin                NaN  15408.0   \n",
       "Carper         22421.0      Tom Carper                NaN  15015.0   \n",
       "Casey           2541.0  Bob Casey, Jr.                NaN  40703.0   \n",
       "\n",
       "             wikipedia_id  \n",
       "last_name                  \n",
       "Brown       Sherrod Brown  \n",
       "Cantwell   Maria Cantwell  \n",
       "Cardin         Ben Cardin  \n",
       "Carper         Tom Carper  \n",
       "Casey       Bob Casey Jr.  \n",
       "\n",
       "[5 rows x 34 columns]"
      ]
     },
     "execution_count": 26,
     "metadata": {},
     "output_type": "execute_result"
    }
   ],
   "source": [
    "legislators.index = legislators['last_name']\n",
    "legislators.head()"
   ]
  },
  {
   "cell_type": "code",
   "execution_count": 27,
   "metadata": {},
   "outputs": [
    {
     "data": {
      "text/plain": [
       "last_name                                                        Graham\n",
       "first_name                                                      Lindsey\n",
       "middle_name                                                          O.\n",
       "suffix                                                              NaN\n",
       "nickname                                                            NaN\n",
       "full_name                                                Lindsey Graham\n",
       "birthday                                                     1955-07-09\n",
       "gender                                                                M\n",
       "type                                                                sen\n",
       "state                                                                SC\n",
       "district                                                            NaN\n",
       "senate_class                                                          2\n",
       "party                                                        Republican\n",
       "url                               https://www.lgraham.senate.gov/public\n",
       "address               290 Russell Senate Office Building Washington ...\n",
       "phone                                                      202-224-5972\n",
       "contact_form          https://www.lgraham.senate.gov/public/index.cf...\n",
       "rss_url               http://www.lgraham.senate.gov/public/index.cfm...\n",
       "twitter                                                      GrahamBlog\n",
       "facebook                                         USSenatorLindseyGraham\n",
       "youtube                                              USSenLindseyGraham\n",
       "youtube_id                                     UClLGZMA5Ei2Z8fR1PLEx6yQ\n",
       "bioguide_id                                                     G000359\n",
       "thomas_id                                                           452\n",
       "opensecrets_id                                                N00009975\n",
       "lis_id                                                             S293\n",
       "fec_ids                                             S0SC00149,H4SC03087\n",
       "cspan_id                                                          36782\n",
       "govtrack_id                                                      300047\n",
       "votesmart_id                                                      21992\n",
       "ballotpedia_id                                           Lindsey Graham\n",
       "washington_post_id                                                  NaN\n",
       "icpsr_id                                                          29566\n",
       "wikipedia_id                                             Lindsey Graham\n",
       "Name: Graham, dtype: object"
      ]
     },
     "execution_count": 27,
     "metadata": {},
     "output_type": "execute_result"
    }
   ],
   "source": [
    "legislators.loc['Graham']"
   ]
  },
  {
   "cell_type": "markdown",
   "metadata": {},
   "source": [
    "## Exercise 7: Indexing & Sampling\n",
    "Randomly select 15 Republicans or Democrats (your choice) from the senate."
   ]
  },
  {
   "cell_type": "code",
   "execution_count": 28,
   "metadata": {},
   "outputs": [
    {
     "data": {
      "text/html": [
       "<div>\n",
       "<style scoped>\n",
       "    .dataframe tbody tr th:only-of-type {\n",
       "        vertical-align: middle;\n",
       "    }\n",
       "\n",
       "    .dataframe tbody tr th {\n",
       "        vertical-align: top;\n",
       "    }\n",
       "\n",
       "    .dataframe thead th {\n",
       "        text-align: right;\n",
       "    }\n",
       "</style>\n",
       "<table border=\"1\" class=\"dataframe\">\n",
       "  <thead>\n",
       "    <tr style=\"text-align: right;\">\n",
       "      <th></th>\n",
       "      <th>last_name</th>\n",
       "      <th>first_name</th>\n",
       "      <th>middle_name</th>\n",
       "      <th>suffix</th>\n",
       "      <th>nickname</th>\n",
       "      <th>full_name</th>\n",
       "      <th>birthday</th>\n",
       "      <th>gender</th>\n",
       "      <th>type</th>\n",
       "      <th>state</th>\n",
       "      <th>...</th>\n",
       "      <th>opensecrets_id</th>\n",
       "      <th>lis_id</th>\n",
       "      <th>fec_ids</th>\n",
       "      <th>cspan_id</th>\n",
       "      <th>govtrack_id</th>\n",
       "      <th>votesmart_id</th>\n",
       "      <th>ballotpedia_id</th>\n",
       "      <th>washington_post_id</th>\n",
       "      <th>icpsr_id</th>\n",
       "      <th>wikipedia_id</th>\n",
       "    </tr>\n",
       "    <tr>\n",
       "      <th>last_name</th>\n",
       "      <th></th>\n",
       "      <th></th>\n",
       "      <th></th>\n",
       "      <th></th>\n",
       "      <th></th>\n",
       "      <th></th>\n",
       "      <th></th>\n",
       "      <th></th>\n",
       "      <th></th>\n",
       "      <th></th>\n",
       "      <th></th>\n",
       "      <th></th>\n",
       "      <th></th>\n",
       "      <th></th>\n",
       "      <th></th>\n",
       "      <th></th>\n",
       "      <th></th>\n",
       "      <th></th>\n",
       "      <th></th>\n",
       "      <th></th>\n",
       "      <th></th>\n",
       "    </tr>\n",
       "  </thead>\n",
       "  <tbody>\n",
       "    <tr>\n",
       "      <th>Brown</th>\n",
       "      <td>Brown</td>\n",
       "      <td>Sherrod</td>\n",
       "      <td>NaN</td>\n",
       "      <td>NaN</td>\n",
       "      <td>NaN</td>\n",
       "      <td>Sherrod Brown</td>\n",
       "      <td>1952-11-09</td>\n",
       "      <td>M</td>\n",
       "      <td>sen</td>\n",
       "      <td>OH</td>\n",
       "      <td>...</td>\n",
       "      <td>N00003535</td>\n",
       "      <td>S307</td>\n",
       "      <td>H2OH13033,S6OH00163</td>\n",
       "      <td>5051.0</td>\n",
       "      <td>400050</td>\n",
       "      <td>27018.0</td>\n",
       "      <td>Sherrod Brown</td>\n",
       "      <td>NaN</td>\n",
       "      <td>29389.0</td>\n",
       "      <td>Sherrod Brown</td>\n",
       "    </tr>\n",
       "    <tr>\n",
       "      <th>Cantwell</th>\n",
       "      <td>Cantwell</td>\n",
       "      <td>Maria</td>\n",
       "      <td>NaN</td>\n",
       "      <td>NaN</td>\n",
       "      <td>NaN</td>\n",
       "      <td>Maria Cantwell</td>\n",
       "      <td>1958-10-13</td>\n",
       "      <td>F</td>\n",
       "      <td>sen</td>\n",
       "      <td>WA</td>\n",
       "      <td>...</td>\n",
       "      <td>N00007836</td>\n",
       "      <td>S275</td>\n",
       "      <td>S8WA00194,H2WA01054</td>\n",
       "      <td>26137.0</td>\n",
       "      <td>300018</td>\n",
       "      <td>27122.0</td>\n",
       "      <td>Maria Cantwell</td>\n",
       "      <td>NaN</td>\n",
       "      <td>39310.0</td>\n",
       "      <td>Maria Cantwell</td>\n",
       "    </tr>\n",
       "    <tr>\n",
       "      <th>Cardin</th>\n",
       "      <td>Cardin</td>\n",
       "      <td>Benjamin</td>\n",
       "      <td>L.</td>\n",
       "      <td>NaN</td>\n",
       "      <td>NaN</td>\n",
       "      <td>Benjamin L. Cardin</td>\n",
       "      <td>1943-10-05</td>\n",
       "      <td>M</td>\n",
       "      <td>sen</td>\n",
       "      <td>MD</td>\n",
       "      <td>...</td>\n",
       "      <td>N00001955</td>\n",
       "      <td>S308</td>\n",
       "      <td>H6MD03177,S6MD03177</td>\n",
       "      <td>4004.0</td>\n",
       "      <td>400064</td>\n",
       "      <td>26888.0</td>\n",
       "      <td>Ben Cardin</td>\n",
       "      <td>NaN</td>\n",
       "      <td>15408.0</td>\n",
       "      <td>Ben Cardin</td>\n",
       "    </tr>\n",
       "    <tr>\n",
       "      <th>Carper</th>\n",
       "      <td>Carper</td>\n",
       "      <td>Thomas</td>\n",
       "      <td>Richard</td>\n",
       "      <td>NaN</td>\n",
       "      <td>NaN</td>\n",
       "      <td>Thomas R. Carper</td>\n",
       "      <td>1947-01-23</td>\n",
       "      <td>M</td>\n",
       "      <td>sen</td>\n",
       "      <td>DE</td>\n",
       "      <td>...</td>\n",
       "      <td>N00012508</td>\n",
       "      <td>S277</td>\n",
       "      <td>S8DE00079</td>\n",
       "      <td>663.0</td>\n",
       "      <td>300019</td>\n",
       "      <td>22421.0</td>\n",
       "      <td>Tom Carper</td>\n",
       "      <td>NaN</td>\n",
       "      <td>15015.0</td>\n",
       "      <td>Tom Carper</td>\n",
       "    </tr>\n",
       "    <tr>\n",
       "      <th>Casey</th>\n",
       "      <td>Casey</td>\n",
       "      <td>Robert</td>\n",
       "      <td>P.</td>\n",
       "      <td>Jr.</td>\n",
       "      <td>Bob</td>\n",
       "      <td>Robert P. Casey, Jr.</td>\n",
       "      <td>1960-04-13</td>\n",
       "      <td>M</td>\n",
       "      <td>sen</td>\n",
       "      <td>PA</td>\n",
       "      <td>...</td>\n",
       "      <td>N00027503</td>\n",
       "      <td>S309</td>\n",
       "      <td>S6PA00217</td>\n",
       "      <td>47036.0</td>\n",
       "      <td>412246</td>\n",
       "      <td>2541.0</td>\n",
       "      <td>Bob Casey, Jr.</td>\n",
       "      <td>NaN</td>\n",
       "      <td>40703.0</td>\n",
       "      <td>Bob Casey Jr.</td>\n",
       "    </tr>\n",
       "  </tbody>\n",
       "</table>\n",
       "<p>5 rows × 34 columns</p>\n",
       "</div>"
      ],
      "text/plain": [
       "          last_name first_name middle_name suffix nickname  \\\n",
       "last_name                                                    \n",
       "Brown         Brown    Sherrod         NaN    NaN      NaN   \n",
       "Cantwell   Cantwell      Maria         NaN    NaN      NaN   \n",
       "Cardin       Cardin   Benjamin          L.    NaN      NaN   \n",
       "Carper       Carper     Thomas     Richard    NaN      NaN   \n",
       "Casey         Casey     Robert          P.    Jr.      Bob   \n",
       "\n",
       "                      full_name    birthday gender type state       ...        \\\n",
       "last_name                                                           ...         \n",
       "Brown             Sherrod Brown  1952-11-09      M  sen    OH       ...         \n",
       "Cantwell         Maria Cantwell  1958-10-13      F  sen    WA       ...         \n",
       "Cardin       Benjamin L. Cardin  1943-10-05      M  sen    MD       ...         \n",
       "Carper         Thomas R. Carper  1947-01-23      M  sen    DE       ...         \n",
       "Casey      Robert P. Casey, Jr.  1960-04-13      M  sen    PA       ...         \n",
       "\n",
       "           opensecrets_id  lis_id              fec_ids cspan_id govtrack_id  \\\n",
       "last_name                                                                     \n",
       "Brown           N00003535    S307  H2OH13033,S6OH00163   5051.0      400050   \n",
       "Cantwell        N00007836    S275  S8WA00194,H2WA01054  26137.0      300018   \n",
       "Cardin          N00001955    S308  H6MD03177,S6MD03177   4004.0      400064   \n",
       "Carper          N00012508    S277            S8DE00079    663.0      300019   \n",
       "Casey           N00027503    S309            S6PA00217  47036.0      412246   \n",
       "\n",
       "          votesmart_id  ballotpedia_id washington_post_id icpsr_id  \\\n",
       "last_name                                                            \n",
       "Brown          27018.0   Sherrod Brown                NaN  29389.0   \n",
       "Cantwell       27122.0  Maria Cantwell                NaN  39310.0   \n",
       "Cardin         26888.0      Ben Cardin                NaN  15408.0   \n",
       "Carper         22421.0      Tom Carper                NaN  15015.0   \n",
       "Casey           2541.0  Bob Casey, Jr.                NaN  40703.0   \n",
       "\n",
       "             wikipedia_id  \n",
       "last_name                  \n",
       "Brown       Sherrod Brown  \n",
       "Cantwell   Maria Cantwell  \n",
       "Cardin         Ben Cardin  \n",
       "Carper         Tom Carper  \n",
       "Casey       Bob Casey Jr.  \n",
       "\n",
       "[5 rows x 34 columns]"
      ]
     },
     "execution_count": 28,
     "metadata": {},
     "output_type": "execute_result"
    }
   ],
   "source": [
    "legislators[(legislators['type'] == 'sen') & (legislators['party'] == 'Democrat')].head()"
   ]
  },
  {
   "cell_type": "markdown",
   "metadata": {},
   "source": [
    "## Exercise 8: Dates\n",
    "<span style=\"float:right; margin-left:10px; clear:both;\">![Task](../media/new_knowledge.png)</span>\n",
    "Let's learn something not covered in the Pandas 1 lesson regarding dates.  We have the birthdates for each legislator, but they are in a String format.  Let's convert it to a datetime object. We can do this using the `pd.to_datetime` function.  Take a look at the online documentation to see how to use this function. Convert the `legislators['birthday']` column to a `datetime` object. Confirm that the column is now a datetime object."
   ]
  },
  {
   "cell_type": "code",
   "execution_count": 38,
   "metadata": {},
   "outputs": [
    {
     "data": {
      "text/plain": [
       "last_name\n",
       "Brown      1952-11-09\n",
       "Cantwell   1958-10-13\n",
       "Cardin     1943-10-05\n",
       "Carper     1947-01-23\n",
       "Casey      1960-04-13\n",
       "Name: birthday, dtype: datetime64[ns]"
      ]
     },
     "execution_count": 38,
     "metadata": {},
     "output_type": "execute_result"
    }
   ],
   "source": [
    "legislators['birthday'] = pd.to_datetime(legislators['birthday'])\n",
    "legislators['birthday'].head()"
   ]
  },
  {
   "cell_type": "markdown",
   "metadata": {},
   "source": [
    "Now that we have the birthdays in a `datetime` object, how can we calculate their age?  Hint: we can use the `pd.Timestamp.now()` function to get a datetime object for this moment. Let's subtract the current time from their birthdays.  Print the top 5 results."
   ]
  },
  {
   "cell_type": "code",
   "execution_count": null,
   "metadata": {},
   "outputs": [],
   "source": []
  },
  {
   "cell_type": "markdown",
   "metadata": {},
   "source": [
    "Notice that the result of subtracting two `datetime` objects is a `timedelta` object. It contains the difference between two time values. The value we calculated therefore gives us the number of days old.  However, we want the number of years. \n",
    "\n",
    "To get the number of years we can divide the number of days old by the number of days in a year (i.e. 365). However, we need to extract out the days from the `datetime` object. To get this, the Pandas Series object has an accessor for extracting components of `datetime` objects and `timedelta` objects. It's named `dt` and it works for both.  You can learn more about the attributes of this accessor at the [datetime objects page](https://pandas.pydata.org/pandas-docs/stable/reference/series.html#datetime-properties) and the [timedelta objects page](https://pandas.pydata.org/pandas-docs/stable/reference/series.html#timedelta-properties) by clicking.  Take a moment to look over that documentation.\n",
    "\n",
    "How would then extract the days in order to divide by 365 to get the years?  Once you've figurd it out. Do so, convert the years to an integer and add the resulting series back into the legislator dataframe as a new column named `age`.  Hint: use the [astype](https://pandas.pydata.org/pandas-docs/stable/reference/api/pandas.Series.astype.html) function of Pandas to convert the type."
   ]
  },
  {
   "cell_type": "code",
   "execution_count": null,
   "metadata": {},
   "outputs": [],
   "source": []
  },
  {
   "cell_type": "markdown",
   "metadata": {},
   "source": [
    "Next, find the youngest, oldest and average age of all legislators"
   ]
  },
  {
   "cell_type": "code",
   "execution_count": null,
   "metadata": {},
   "outputs": [],
   "source": []
  },
  {
   "cell_type": "markdown",
   "metadata": {},
   "source": [
    "Who are the oldest and youngest legislators?"
   ]
  },
  {
   "cell_type": "code",
   "execution_count": null,
   "metadata": {},
   "outputs": [],
   "source": []
  },
  {
   "cell_type": "markdown",
   "metadata": {},
   "source": [
    "## Exercise 9:  Indexing with loc and iloc\n",
    "Reindex the legislators dataframe using the state, and find all legislators from a state of your choice using the `loc` accessor."
   ]
  },
  {
   "cell_type": "code",
   "execution_count": null,
   "metadata": {},
   "outputs": [],
   "source": []
  },
  {
   "cell_type": "markdown",
   "metadata": {},
   "source": [
    "Use the loc command to find all legislators from South Carolina and North Carolina"
   ]
  },
  {
   "cell_type": "code",
   "execution_count": null,
   "metadata": {},
   "outputs": [],
   "source": []
  },
  {
   "cell_type": "markdown",
   "metadata": {},
   "source": [
    "Use the loc command to retrieve all legislators from California, Oregon and Washington and only get their full name, state, party and age"
   ]
  },
  {
   "cell_type": "code",
   "execution_count": null,
   "metadata": {},
   "outputs": [],
   "source": []
  }
 ],
 "metadata": {
  "kernelspec": {
   "display_name": "Python 3",
   "language": "python",
   "name": "python3"
  },
  "language_info": {
   "codemirror_mode": {
    "name": "ipython",
    "version": 3
   },
   "file_extension": ".py",
   "mimetype": "text/x-python",
   "name": "python",
   "nbconvert_exporter": "python",
   "pygments_lexer": "ipython3",
   "version": "3.8.5"
  }
 },
 "nbformat": 4,
 "nbformat_minor": 4
}
