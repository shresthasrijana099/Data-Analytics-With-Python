{
 "cells": [
  {
   "cell_type": "markdown",
   "metadata": {},
   "source": [
    "# Lesson 2: NumPy Part 2\n",
    "\n",
    "This notebook is based on the official `NumPy` [documentation](https://docs.scipy.org/doc/numpy/user/quickstart.html).  Unless otherwise credited, quoted text comes from this document.  The Numpy documention describes NumPy in the following way:\n",
    "\n",
    "> NumPy is the fundamental package for scientific computing with Python. It contains among other things:\n",
    "> - a powerful N-dimensional array object\n",
    "> - sophisticated (broadcasting) functions\n",
    "> - tools for integrating C/C++ and Fortran code\n",
    "> - useful linear algebra, Fourier transform, and random number capabilities\n",
    ">\n",
    "> Besides its obvious scientific uses, NumPy can also be used as an efficient multi-dimensional container of generic data. Arbitrary data-types can be defined. This allows NumPy to seamlessly and speedily integrate with a wide variety of databases.\n"
   ]
  },
  {
   "cell_type": "markdown",
   "metadata": {},
   "source": [
    "## Instructions\n",
    "This tutorial provides step-by-step training divided into numbered sections. The sections often contain embeded exectable code for demonstration.  This tutorial is accompanied by a practice notebook: [L02-Numpy_Part2-Practice.ipynb](./L02-Numpy_Part2-Practice.ipynb). \n",
    "\n",
    "Throughout this tutorial sections labeled as \"Tasks\" are interspersed and indicated with the icon: ![Task](http://icons.iconarchive.com/icons/sbstnblnd/plateau/16/Apps-gnome-info-icon.png). You should follow the instructions provided in these sections by performing them in the practice notebook.  When the tutorial is completed you can turn in the final practice notebook.  "
   ]
  },
  {
   "cell_type": "markdown",
   "metadata": {},
   "source": [
    "---\n",
    "## 1. Getting Started\n",
    "First, we must import the NumPy library. "
   ]
  },
  {
   "cell_type": "code",
   "execution_count": 1,
   "metadata": {},
   "outputs": [],
   "source": [
    "# Import numpy\n",
    "import numpy as np"
   ]
  },
  {
   "cell_type": "markdown",
   "metadata": {},
   "source": [
    "### Task 1a: Setup\n",
    "<span style=\"float:right; margin-left:10px; clear:both;\">![Task](http://icons.iconarchive.com/icons/sbstnblnd/plateau/96/Apps-gnome-info-icon.png)\n",
    "</span>\n",
    "\n",
    "In the practice notebook, import the following packages:\n",
    "+ `numpy` as `np`"
   ]
  },
  {
   "cell_type": "markdown",
   "metadata": {},
   "source": [
    "## 2 Basic Indexing: Subsets and Slicing\n",
    "\n",
    "We often want to consider a subset of a given array. You will recognize basic subsetting as it is similar to indexing of Python lists.  \n",
    "\n",
    "The following code examples demonstrate how to subset a NumPy array:\n",
    "\n",
    "```python\n",
    "# Get items from \"start\" to \"end\" (but the end is not included!)\n",
    "a[start:end] \n",
    "\n",
    "# Get all items from \"start\" through the rest of the array\n",
    "a[start:]    \n",
    "\n",
    "# Get items from the beginning to \"end\" (but the end is not included!)\n",
    "a[:end]      \n",
    "```\n",
    "Similarly to Python lists, retriving elements from the end of a NumPy array uses negative indexing.  Execute the example code below to see a demonstration:"
   ]
  },
  {
   "cell_type": "code",
   "execution_count": 2,
   "metadata": {},
   "outputs": [
    {
     "name": "stdout",
     "output_type": "stream",
     "text": [
      "[[0.21847921 0.58694935]\n",
      " [0.61815126 0.81658475]\n",
      " [0.4294856  0.02043049]\n",
      " [0.38807909 0.75901409]\n",
      " [0.78980718 0.67693608]]\n"
     ]
    },
    {
     "data": {
      "text/plain": [
       "0.6769360769865312"
      ]
     },
     "execution_count": 2,
     "metadata": {},
     "output_type": "execute_result"
    }
   ],
   "source": [
    "# Create a 5 x 2 array of random numbers\n",
    "demo_g = np.random.random((5,2))\n",
    "print(demo_g)\n",
    "\n",
    "# Get the last item from the last 'row':\n",
    "demo_g[-1, -1]"
   ]
  },
  {
   "cell_type": "markdown",
   "metadata": {},
   "source": [
    "### Task 2a: Indexing by Subsetting and Slicing\n",
    "<span style=\"float:right; margin-left:10px; clear:both;\">![Task](http://icons.iconarchive.com/icons/sbstnblnd/plateau/96/Apps-gnome-info-icon.png)\n",
    "</span>\n",
    "\n",
    "In the practice notebook perform the following:\n",
    "\n",
    "1. Create (or re-use) 3 arrays, each containing three dimensions.\n",
    "2. Slice each of these arrays so that:\n",
    "    + One element / number is returned.\n",
    "    + One dimension is returned.\n",
    "    + A subset of a dimension is returned.\n",
    "3. What is the difference between `[x:]` and `[x, ...]`? (hint, try each on high-dimension arrays).\n",
    "    \n",
    "*Exactly what you choose to return is not imporant at this point, the goal of this task is to train you so that if you are given an n-dimension NumPy array, you can write an index or slice that returns a subset of desired positions.*"
   ]
  },
  {
   "cell_type": "markdown",
   "metadata": {},
   "source": [
    "## 3. \"Fancy\" Indexing\n",
    "\n",
    "Fancy indexing allows you to provide an array of indicies or an array of boolean values in order to subset an array.\n"
   ]
  },
  {
   "cell_type": "markdown",
   "metadata": {},
   "source": [
    "### 3.1 Using a Boolean Array for Indexing\n",
    "Rather than using an index range, as shown in the previous section, we can provide an array of boolean values where `True` indicates that we want the value in the position where `True` is found, and `False` indicates we do not want it.  Creating these boolean arrays is simple if we use conditional statements. \n",
    "\n",
    "For example, review and then execute the following code:"
   ]
  },
  {
   "cell_type": "code",
   "execution_count": null,
   "metadata": {},
   "outputs": [],
   "source": [
    "# Create a 5 x 2 array of random numbers\n",
    "demo_g = np.random.random((5,2))\n",
    "\n",
    "# Find all values in the matrix less than 0.5\n",
    "demo_g < 0.5"
   ]
  },
  {
   "cell_type": "markdown",
   "metadata": {},
   "source": [
    "Notice the return value is an array of boolean values.  True indicates if the value was less than 0.5. False indicates it is greater or equal. We can use this boolean array as an index for the same array to return only those values satisfy the boolean condition. Try executing the following code:"
   ]
  },
  {
   "cell_type": "code",
   "execution_count": null,
   "metadata": {},
   "outputs": [],
   "source": [
    "demo_g[demo_g < 0.5]"
   ]
  },
  {
   "cell_type": "markdown",
   "metadata": {},
   "source": [
    "Or alternatively:"
   ]
  },
  {
   "cell_type": "code",
   "execution_count": null,
   "metadata": {},
   "outputs": [],
   "source": [
    "sig_list = demo_g < 0.5\n",
    "demo_g[sig_list]"
   ]
  },
  {
   "cell_type": "markdown",
   "metadata": {},
   "source": [
    "### Task 3a: Boolean Indexing\n",
    "\n",
    "<span style=\"float:right; margin-left:10px; clear:both;\">![Task](http://icons.iconarchive.com/icons/sbstnblnd/plateau/96/Apps-gnome-info-icon.png)\n",
    "</span>\n",
    "\n",
    "In the practice notebook perform the following:\n",
    "\n",
    "+ Experiment with the following boolean conditionals to generate boolean arrays for indexing:\n",
    "  + Greater than\n",
    "  + Less than\n",
    "  + Equals\n",
    "  + Combine two or more of the above with:\n",
    "      + or `|`\n",
    "      + and `&`\n",
    "\n",
    "You can create arrays or use existing ones"
   ]
  },
  {
   "cell_type": "markdown",
   "metadata": {},
   "source": [
    "### 3.2 Using exact indicies\n",
    "\n",
    "Alternatively, if there are specific elements from the array that we want to retrieve we can provide the specific numeric indices.  \n",
    "\n",
    "For example, review and then execute the following code:"
   ]
  },
  {
   "cell_type": "code",
   "execution_count": null,
   "metadata": {},
   "outputs": [],
   "source": [
    "# Generate a list of 500 random numbers\n",
    "demo_f = np.random.random((500))\n",
    "\n",
    "# Retreive 5 random numbers from the list\n",
    "demo_f[[0,100,200,300,400]]"
   ]
  },
  {
   "cell_type": "markdown",
   "metadata": {},
   "source": [
    "## 4. Intermission -- Getting Help\n",
    "\n",
    "Python has a built in function, `help()`, we can call on any object (anything) to find out more about it. As we move deeper into the functions provided by most packages, we often need to know exactly what a given function expects as arguments.\n",
    "\n",
    "The output of these `help()` calls can be long. Try executing the following help call for the `np.array` attribute:"
   ]
  },
  {
   "cell_type": "code",
   "execution_count": null,
   "metadata": {},
   "outputs": [],
   "source": [
    "# Call help on anything from a package.\n",
    "help(np.array)"
   ]
  },
  {
   "cell_type": "markdown",
   "metadata": {},
   "source": [
    "Additionally, we can get help about an object that we created! Execute the following code to try it out:"
   ]
  },
  {
   "cell_type": "code",
   "execution_count": null,
   "metadata": {},
   "outputs": [],
   "source": [
    "# Call help on an object we created.\n",
    "x = np.array([1, 2, 3, 4])\n",
    "help(x)"
   ]
  },
  {
   "cell_type": "markdown",
   "metadata": {},
   "source": [
    "### Task 4a: Getting Help\n",
    "\n",
    "<span style=\"float:right; margin-left:10px; clear:both;\">![Task](http://icons.iconarchive.com/icons/sbstnblnd/plateau/96/Apps-gnome-info-icon.png)\n",
    "</span>\n",
    "\n",
    "In the practice notebook peform the following:\n",
    "\n",
    "+ In the code cell below, call `help()` on two of the following functions: `np.transpose()`, `np.reshape()`, `np.resize()`, `np.ravel()`, `np.append()`, `np.delete()`, `np.concatenate()`, `np.vstack()`, `np.hstack()`, `np.column_stack()`, `np.vsplit()`, `np.hsplit()` \n",
    "+ Respond to this question: Did you understand the help docuemntation? Could you use the function just by looking at what the help says about it?  "
   ]
  },
  {
   "cell_type": "markdown",
   "metadata": {},
   "source": [
    "## 5. Manipulating Arrays\n",
    "Thus far, we have larned to create arrays, perform basic math, aggregate values, and index arrays. Finally, we need to learn to manipulate them by transposing, reshaping, splitting, joining appending, and deleting arrays."
   ]
  },
  {
   "cell_type": "markdown",
   "metadata": {},
   "source": [
    "### 5.1 Transposing\n",
    "Transposing an array is equivalent to flipping it both horizontally and vertically as shown in the following animated image:\n",
    "\n",
    "<img src=\"https://upload.wikimedia.org/wikipedia/commons/e/e4/Matrix_transpose.gif\">\n",
    "\n",
    "(image source: https://en.wikipedia.org/wiki/Transpose)\n",
    "\n",
    "Numpy allows you to tranpose a matrix in one of two ways:\n",
    "\n",
    "+ Using the `transpose()` function\n",
    "+ Accessing the `T` attribute.\n",
    "\n",
    "Execute the following code examples to see an example of an array transpose"
   ]
  },
  {
   "cell_type": "code",
   "execution_count": null,
   "metadata": {},
   "outputs": [],
   "source": [
    "# Create a 2 x 3 random matrix\n",
    "demo_f = np.random.random((2,3))\n",
    "\n",
    "print(\"The original matrix\")\n",
    "print(demo_f)\n",
    "\n",
    "print(\"\\nThe matrix after being tranposed\")\n",
    "print(np.transpose(demo_f))\n",
    "\n",
    "print(\"\\nThe tranposed matrix from the T attribute\")\n",
    "print(demo_f.T)\n"
   ]
  },
  {
   "cell_type": "markdown",
   "metadata": {},
   "source": [
    "### Task 5a: Transposing an Array\n",
    "\n",
    "<span style=\"float:right; margin-left:10px; clear:both;\">![Task](http://icons.iconarchive.com/icons/sbstnblnd/plateau/96/Apps-gnome-info-icon.png)\n",
    "</span>\n",
    "\n",
    "In the practice notebook peform the following:\n",
    "\n",
    "+ Create a matrix of any size and transpose it."
   ]
  },
  {
   "cell_type": "markdown",
   "metadata": {},
   "source": [
    "### 5.2 Reshaping and Resizing\n",
    "You can change the dimensions of your array by use of the following two functions:\n",
    " + `resize()`\n",
    " + `reshape()`\n",
    " \n",
    "The `resize()` function allows you to \"stretch\" your array to increase its size.  This can be useful if you need to add more data to an existing array or you need to adjust it prior to performing arithmatic and Broadcasting.\n",
    "\n",
    "The `reshape()` function allows you to change the dimensions of an existing array. For example, if you have a _3 x 2_ array you can change it to a _6 x 1_ array using the `reshape()` function without losing the data values in the array.\n",
    "\n",
    "Examine and execute the following code adapted from the DataCamp Tutorial:"
   ]
  },
  {
   "cell_type": "code",
   "execution_count": null,
   "metadata": {},
   "outputs": [],
   "source": [
    "# Create an array x of size 4 x 1. Print the shape of `x`\n",
    "x = np.array([1,1,1,1])\n",
    "print(x.shape)\n",
    "\n",
    "# Resize `x` to ((6,4))\n",
    "np.resize(x, (6,4))"
   ]
  },
  {
   "cell_type": "markdown",
   "metadata": {},
   "source": [
    "Notice how the array was resized from a _4 x 1_ to a _6 x 4_ array."
   ]
  },
  {
   "cell_type": "code",
   "execution_count": null,
   "metadata": {},
   "outputs": [],
   "source": [
    "# Reshape `x` to (2,6)\n",
    "x = np.array([1,2,3,4])\n",
    "print(\"\\noriginal:\")\n",
    "print(x)\n",
    "print(\"\\nreshaped:\")\n",
    "print(x.reshape((2,2)))"
   ]
  },
  {
   "cell_type": "markdown",
   "metadata": {},
   "source": [
    "### Task 5b: Reshaping an Array\n",
    "\n",
    "<span style=\"float:right; margin-left:10px; clear:both;\">![Task](http://icons.iconarchive.com/icons/sbstnblnd/plateau/96/Apps-gnome-info-icon.png)\n",
    "</span>\n",
    "\n",
    "In the practice notebook perform the following:\n",
    "\n",
    "+ Create a matrix and resize it by adding 2 extra columns\n",
    "+ Create a matrix and resize it by adding 1 extra row\n",
    "+ Create a matrix of 8 x 2 and resize it to 4 x 4"
   ]
  },
  {
   "cell_type": "markdown",
   "metadata": {},
   "source": [
    "### 5.3 Appending Arrays\n",
    "Sometimes, you may want to want to append one array to another.  You can append one array to another using the `append()` function.  You can append an array to any dimension.  Remember that NumPy arrays have **axes**.  When you append one array to another you must specify the axes (e.g. row or column for 2D array) that you want to append. Axes are identified using a numeric index starting from 0, therefore:\n",
    "\n",
    "+ `0`: the first dimension (the columns, or x-axis)\n",
    "+ `1`: the second dimension (the rows, or y-axis)\n",
    "+ `2`: the third dimension (the z-axis)\n",
    "+ `3`: the fourth dimension\n",
    "+ etc...\n",
    "\n",
    "For example, examine and execute this code borrowed from the DataCamp tutorial:"
   ]
  },
  {
   "cell_type": "code",
   "execution_count": null,
   "metadata": {},
   "outputs": [],
   "source": [
    "# Append a 1D array to your `my_array`\n",
    "my_array = np.array([1,2,3,4])\n",
    "new_array = np.append(my_array, [7, 8, 9, 10])\n",
    "\n",
    "# Print `new_array`\n",
    "print(new_array)\n",
    "\n",
    "# Append an extra column to your `my_2d_array`\n",
    "my_2d_array = np.array([[1,2,3,4], [5,6,7,8]])\n",
    "new_2d_array = np.append(my_2d_array, [[7], [8]], axis=1)\n",
    "\n",
    "# Print `new_2d_array`\n",
    "print(new_2d_array)"
   ]
  },
  {
   "cell_type": "markdown",
   "metadata": {},
   "source": [
    "In the code above, for the first example, the array `[7, 8, 9, 10]` is appended or added to the existing 1D `my_array`.  For the second example, the values `7` and `8` are added to the rows (note the `axis=1` parameter."
   ]
  },
  {
   "cell_type": "markdown",
   "metadata": {},
   "source": [
    "### Task 5c: Appending to an Array\n",
    "\n",
    "<span style=\"float:right; margin-left:10px; clear:both;\">![Task](http://icons.iconarchive.com/icons/sbstnblnd/plateau/96/Apps-gnome-info-icon.png)\n",
    "</span>\n",
    "\n",
    "In the practice notebook perform the following:\n",
    "\n",
    " + Create a three dimensional array and append another row to the array\n",
    " + Append another colum to the array\n",
    " + Print the final results"
   ]
  },
  {
   "cell_type": "markdown",
   "metadata": {},
   "source": [
    "### 5.4 Inserting and Deleting Elements\n",
    "You can easily add a new element, or elements to an array using the `insert()` and `delete()` functions.  "
   ]
  },
  {
   "cell_type": "markdown",
   "metadata": {},
   "source": [
    "### Task 5d: Inserting and Deleting Elements\n",
    "\n",
    "<span style=\"float:right; margin-left:10px; clear:both;\">![Task](http://icons.iconarchive.com/icons/sbstnblnd/plateau/96/Apps-gnome-info-icon.png)\n",
    "</span>\n",
    "\n",
    "In the practice notebook perform the following:\n",
    "\n",
    "+ Examine the `help()` documentation for how to use the `insert()` and `delete()` functions.\n",
    "+ Create a matrix and practice inserting a row and deleting a column.\n"
   ]
  },
  {
   "cell_type": "markdown",
   "metadata": {},
   "source": [
    "### 5.5 Joining Arrays\n",
    "There are a variety of functions for joining arrays:\n",
    "\n",
    " + `concatenate()`\n",
    " + `vstack()`\n",
    " + `hstack()`\n",
    " + `column_stack()`\n",
    "\n",
    "Each of these functions is used in the following code borrowed from a [DataCamp](https://www.datacamp.com/) tutorial. Examine and execute the following code cell:"
   ]
  },
  {
   "cell_type": "code",
   "execution_count": null,
   "metadata": {},
   "outputs": [],
   "source": [
    "# Concatentate `my_array` and `x`: similar to np.append()\n",
    "my_array = np.array([1,2,3,4])\n",
    "x = np.array([1,1,1,1])\n",
    "print(\"concatenate:\")\n",
    "print(np.concatenate((my_array, x)))\n",
    "\n",
    "# Stack arrays row-wise\n",
    "my_2d_array = np.array([[1,2,3,4], [5,6,7,8]])\n",
    "print(\"\\nvstack:\")\n",
    "print(np.vstack((my_array, my_2d_array)))\n",
    "\n",
    "# Stack arrays horizontally\n",
    "print(\"\\nhstack:\")\n",
    "print(np.hstack((my_2d_array, my_2d_array)))\n",
    "\n",
    "# Stack arrays column-wise\n",
    "print(\"\\ncolumn_stack:\")\n",
    "print(np.column_stack((my_2d_array, my_2d_array)))"
   ]
  },
  {
   "cell_type": "markdown",
   "metadata": {},
   "source": [
    "### Task 5e: Joining Arrays\n",
    "\n",
    "<span style=\"float:right; margin-left:10px; clear:both;\">![Task](http://icons.iconarchive.com/icons/sbstnblnd/plateau/96/Apps-gnome-info-icon.png)\n",
    "</span>\n",
    "\n",
    "In the practice notebook perform the following:\n",
    "\n",
    "+ Execute the code (as shown above).\n",
    "+ Examine the output from each of the function calls in the cell above. If needed to understand, review the help pages for each tool either using the `help()` command or the [Numpy Function Reference](https://docs.scipy.org/doc/numpy/reference/routines.html). \n",
    "+ Respond to the following question\n",
    "  + Can you identify what is happening with each of them?"
   ]
  },
  {
   "cell_type": "markdown",
   "metadata": {},
   "source": [
    "### 5.5 Splitting an Array\n",
    "You may find that you need to split arrays. The following functions allow you to split horizontally or vertically:\n",
    " + `vsplit()`\n",
    " + `hsplit()`\n",
    " \n",
    "Examine and execute the following code borrowed from the DataCamp Tutorial:"
   ]
  },
  {
   "cell_type": "code",
   "execution_count": null,
   "metadata": {},
   "outputs": [],
   "source": [
    "# Create a 2D array.\n",
    "my_2d_array = np.array([[1,2,3,4], [5,6,7,8]])\n",
    "print(\"original:\")\n",
    "print(my_2d_array)\n",
    "\n",
    "# Split `my_stacked_array` horizontally at the 2nd index\n",
    "print(\"\\nhsplit:\")\n",
    "print(np.hsplit(my_2d_array, 2))\n",
    "\n",
    "# Split `my_stacked_array` vertically at the 2nd index\n",
    "print(\"\\nvsplit:\")\n",
    "print(np.vsplit(my_2d_array, 2))"
   ]
  },
  {
   "cell_type": "markdown",
   "metadata": {},
   "source": [
    "### Task 5d: Splitting Arrays\n",
    "\n",
    "<span style=\"float:right; margin-left:10px; clear:both;\">![Task](http://icons.iconarchive.com/icons/sbstnblnd/plateau/96/Apps-gnome-info-icon.png)\n",
    "</span>\n",
    "\n",
    "In the practice notebook perform the following:\n",
    "\n",
    "+ Execute the code (as shown above).\n",
    "+ Examine the output from each of the function calls in the cell above. If needed to understand, review the help pages for each tool either using the `help()` command or the [Numpy Function Reference](https://docs.scipy.org/doc/numpy/reference/routines.html). \n",
    "+ Respond to the following question\n",
    "  + Can you identify what is happening with each of them?"
   ]
  }
 ],
 "metadata": {
  "kernelspec": {
   "display_name": "Python 3",
   "language": "python",
   "name": "python3"
  },
  "language_info": {
   "codemirror_mode": {
    "name": "ipython",
    "version": 3
   },
   "file_extension": ".py",
   "mimetype": "text/x-python",
   "name": "python",
   "nbconvert_exporter": "python",
   "pygments_lexer": "ipython3",
   "version": "3.8.5"
  }
 },
 "nbformat": 4,
 "nbformat_minor": 4
}
